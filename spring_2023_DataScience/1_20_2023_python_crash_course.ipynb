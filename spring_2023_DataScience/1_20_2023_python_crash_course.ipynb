{
 "cells": [
  {
   "cell_type": "code",
   "execution_count": 1,
   "id": "69c8ec92",
   "metadata": {},
   "outputs": [
    {
     "name": "stdout",
     "output_type": "stream",
     "text": [
      "2\n"
     ]
    }
   ],
   "source": [
    "print(1+1)"
   ]
  },
  {
   "cell_type": "markdown",
   "id": "215a189a",
   "metadata": {},
   "source": [
    "# Data \n"
   ]
  },
  {
   "cell_type": "markdown",
   "id": "625308b7",
   "metadata": {},
   "source": [
    "# data type\n",
    "    * # integers\n",
    "    * ## floats\n",
    "    * ### strings\n",
    "    * ## string method\n",
    "    * ## Boolean\n",
    "    * ## Comparison operation\n",
    "    * ## F'string\n",
    "    * ## List\n",
    "    * ## Dictionary\n",
    "    * ## Set\n",
    "    * ## Tuple\n",
    "# Functions \n",
    "    * ## Function \n",
    "    * ## Lambda\n",
    "    * ## Filter \n",
    "    * ## Map"
   ]
  },
  {
   "cell_type": "markdown",
   "id": "fff26af0",
   "metadata": {},
   "source": [
    "# mod operator (%) this will return the remainder of the division"
   ]
  },
  {
   "cell_type": "markdown",
   "id": "09448e20",
   "metadata": {},
   "source": [
    "# example\n",
    "21 % 4\n"
   ]
  },
  {
   "cell_type": "markdown",
   "id": "044d6dba",
   "metadata": {},
   "source": [
    "to check if a N number is even, it suffices to show N % 2 = 0"
   ]
  },
  {
   "cell_type": "code",
   "execution_count": 2,
   "id": "9de9ed5d",
   "metadata": {},
   "outputs": [
    {
     "data": {
      "text/plain": [
       "0"
      ]
     },
     "execution_count": 2,
     "metadata": {},
     "output_type": "execute_result"
    }
   ],
   "source": [
    "# for instance \n",
    "212 % 2 # so 212 is an even number\n"
   ]
  },
  {
   "cell_type": "markdown",
   "id": "bcab28fd",
   "metadata": {},
   "source": [
    "# to check if a number is odd, it suffices to show N % 2 = 1"
   ]
  },
  {
   "cell_type": "code",
   "execution_count": 3,
   "id": "3ffd1774",
   "metadata": {},
   "outputs": [
    {
     "data": {
      "text/plain": [
       "1"
      ]
     },
     "execution_count": 3,
     "metadata": {},
     "output_type": "execute_result"
    }
   ],
   "source": [
    "121 % 2 # is 1, so 121 is an odd number\n"
   ]
  },
  {
   "cell_type": "markdown",
   "id": "544e9f05",
   "metadata": {},
   "source": [
    "# String is a sequence of characters\n",
    "We use single, or double quotation to efine a string; that is, a string must between quotations\n"
   ]
  },
  {
   "cell_type": "code",
   "execution_count": 5,
   "id": "4159cb22",
   "metadata": {},
   "outputs": [
    {
     "name": "stdout",
     "output_type": "stream",
     "text": [
      "True\n"
     ]
    }
   ],
   "source": [
    "print(False or True)"
   ]
  },
  {
   "cell_type": "code",
   "execution_count": 8,
   "id": "801130ce",
   "metadata": {},
   "outputs": [
    {
     "name": "stdout",
     "output_type": "stream",
     "text": [
      "False\n"
     ]
    }
   ],
   "source": [
    "print(False and False)"
   ]
  },
  {
   "cell_type": "code",
   "execution_count": 9,
   "id": "0066525c",
   "metadata": {},
   "outputs": [
    {
     "name": "stdout",
     "output_type": "stream",
     "text": [
      "False\n"
     ]
    }
   ],
   "source": [
    "print(False and False)"
   ]
  },
  {
   "cell_type": "markdown",
   "id": "dd6fcd82",
   "metadata": {},
   "source": [
    "* ### List\n",
    "#### example [1,2,3,4,5,6,7,8,9]"
   ]
  },
  {
   "cell_type": "markdown",
   "id": "88063d9e",
   "metadata": {},
   "source": [
    "### Reverse member of a list"
   ]
  },
  {
   "cell_type": "code",
   "execution_count": 10,
   "id": "afe1aa73",
   "metadata": {},
   "outputs": [],
   "source": [
    "my_vegi = ['salad', 'carrot', 'cabbage', 'spinach']"
   ]
  },
  {
   "cell_type": "code",
   "execution_count": 11,
   "id": "8e1f94d8",
   "metadata": {},
   "outputs": [],
   "source": [
    "my_fruit = ['apple', 'mango', 'bannana', 'strawberry']"
   ]
  },
  {
   "cell_type": "code",
   "execution_count": 12,
   "id": "f55923c9",
   "metadata": {},
   "outputs": [
    {
     "name": "stdout",
     "output_type": "stream",
     "text": [
      "['salad', 'carrot', 'cabbage', 'spinach']\n"
     ]
    }
   ],
   "source": [
    "print(my_vegi)"
   ]
  },
  {
   "cell_type": "markdown",
   "id": "1debc88e",
   "metadata": {},
   "source": [
    "# Dictonary\n",
    "is a sequence of key-value pair. Members of a dictonary are between curly brackets."
   ]
  },
  {
   "cell_type": "code",
   "execution_count": 13,
   "id": "2106d5bc",
   "metadata": {},
   "outputs": [],
   "source": [
    "student = {\n",
    "'College' : 'Howard University' ,\n",
    "'School' : 'COAS',\n",
    "'Major' : 'Data Sciencce' ,\n",
    "'Email': 'jaday.garel-acosta@bison.howard.edu' ,\n",
    "'S_name' : 'JaDay Garel-Acosta' }"
   ]
  },
  {
   "cell_type": "code",
   "execution_count": 14,
   "id": "0fdfa017",
   "metadata": {
    "scrolled": true
   },
   "outputs": [
    {
     "data": {
      "text/plain": [
       "'Data Sciencce'"
      ]
     },
     "execution_count": 14,
     "metadata": {},
     "output_type": "execute_result"
    }
   ],
   "source": [
    "student['Major']"
   ]
  },
  {
   "cell_type": "code",
   "execution_count": 15,
   "id": "07af05b1",
   "metadata": {
    "scrolled": true
   },
   "outputs": [
    {
     "data": {
      "text/plain": [
       "'jaday.garel-acosta@bison.howard.edu'"
      ]
     },
     "execution_count": 15,
     "metadata": {},
     "output_type": "execute_result"
    }
   ],
   "source": [
    "student['Email']"
   ]
  },
  {
   "cell_type": "markdown",
   "id": "5fc00f9a",
   "metadata": {},
   "source": [
    "Dictionary"
   ]
  },
  {
   "cell_type": "code",
   "execution_count": 16,
   "id": "ecb25e71",
   "metadata": {},
   "outputs": [],
   "source": [
    "student['Address']= '123 Howard Pl NW, Washington Dc 20059'"
   ]
  },
  {
   "cell_type": "code",
   "execution_count": 17,
   "id": "3657195b",
   "metadata": {},
   "outputs": [
    {
     "data": {
      "text/plain": [
       "'123 Howard Pl NW, Washington Dc 20059'"
      ]
     },
     "execution_count": 17,
     "metadata": {},
     "output_type": "execute_result"
    }
   ],
   "source": [
    "student['Address']"
   ]
  },
  {
   "cell_type": "markdown",
   "id": "dc0e36e5",
   "metadata": {},
   "source": [
    "* ### The set () method is used to remove duplicates"
   ]
  },
  {
   "cell_type": "code",
   "execution_count": 18,
   "id": "99d07983",
   "metadata": {},
   "outputs": [
    {
     "data": {
      "text/plain": [
       "set[1, 1, 2, 3, 4, 5, 6, 7, 8, 9]"
      ]
     },
     "execution_count": 18,
     "metadata": {},
     "output_type": "execute_result"
    }
   ],
   "source": [
    "set[1,1,2,3,4,5,6,7,8,9]"
   ]
  },
  {
   "cell_type": "code",
   "execution_count": 19,
   "id": "3146bd9c",
   "metadata": {},
   "outputs": [],
   "source": [
    "my_list = [1,1,2,3,4,5,6,7,8,9]\n",
    "my_tuple = (1,1,2,3,4,5,6,7,8,9)"
   ]
  },
  {
   "cell_type": "code",
   "execution_count": 20,
   "id": "8287d440",
   "metadata": {},
   "outputs": [],
   "source": [
    "new_tuple = (1,2,3)"
   ]
  },
  {
   "cell_type": "code",
   "execution_count": 21,
   "id": "3b0785fe",
   "metadata": {},
   "outputs": [],
   "source": [
    "a,b,d = new_tuple"
   ]
  },
  {
   "cell_type": "code",
   "execution_count": 22,
   "id": "3d1f5df7",
   "metadata": {},
   "outputs": [
    {
     "data": {
      "text/plain": [
       "2"
      ]
     },
     "execution_count": 22,
     "metadata": {},
     "output_type": "execute_result"
    }
   ],
   "source": [
    "b"
   ]
  },
  {
   "cell_type": "code",
   "execution_count": 23,
   "id": "46fc0d86",
   "metadata": {},
   "outputs": [
    {
     "data": {
      "text/plain": [
       "1"
      ]
     },
     "execution_count": 23,
     "metadata": {},
     "output_type": "execute_result"
    }
   ],
   "source": [
    "a"
   ]
  },
  {
   "cell_type": "code",
   "execution_count": 24,
   "id": "0c0c5671",
   "metadata": {},
   "outputs": [
    {
     "data": {
      "text/plain": [
       "3"
      ]
     },
     "execution_count": 24,
     "metadata": {},
     "output_type": "execute_result"
    }
   ],
   "source": [
    "d"
   ]
  },
  {
   "cell_type": "code",
   "execution_count": 25,
   "id": "ac461fd8",
   "metadata": {},
   "outputs": [],
   "source": [
    "name = 'JaDay'"
   ]
  },
  {
   "cell_type": "code",
   "execution_count": 29,
   "id": "1dfd3c16",
   "metadata": {},
   "outputs": [
    {
     "data": {
      "text/plain": [
       "'gmail.com'"
      ]
     },
     "execution_count": 29,
     "metadata": {},
     "output_type": "execute_result"
    }
   ],
   "source": [
    "my_str = 'someone@gmail.com'\n",
    "my_str.split('@')[1]"
   ]
  },
  {
   "cell_type": "code",
   "execution_count": null,
   "id": "f7b8e5b6",
   "metadata": {},
   "outputs": [],
   "source": []
  }
 ],
 "metadata": {
  "kernelspec": {
   "display_name": "Python 3 (ipykernel)",
   "language": "python",
   "name": "python3"
  },
  "language_info": {
   "codemirror_mode": {
    "name": "ipython",
    "version": 3
   },
   "file_extension": ".py",
   "mimetype": "text/x-python",
   "name": "python",
   "nbconvert_exporter": "python",
   "pygments_lexer": "ipython3",
   "version": "3.9.13"
  }
 },
 "nbformat": 4,
 "nbformat_minor": 5
}
