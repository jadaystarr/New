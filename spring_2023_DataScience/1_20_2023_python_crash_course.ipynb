{
 "cells": [
  {
   "cell_type": "code",
   "execution_count": 1,
   "id": "69c8ec92",
   "metadata": {},
   "outputs": [
    {
     "name": "stdout",
     "output_type": "stream",
     "text": [
      "2\n"
     ]
    }
   ],
   "source": [
    "print(1+1)"
   ]
  },
  {
   "cell_type": "markdown",
   "id": "215a189a",
   "metadata": {},
   "source": [
    "# Data \n"
   ]
  },
  {
   "cell_type": "markdown",
   "id": "625308b7",
   "metadata": {},
   "source": [
    "# data type\n",
    "    * # integers\n",
    "    * ## floats\n",
    "    * ### strings\n",
    "    * ## string method\n",
    "    * ## Boolean\n",
    "    * ## Comparison operation\n",
    "    * ## F'string\n",
    "    * ## List\n",
    "    * ## Dictionary\n",
    "    * ## Set\n",
    "    * ## Tuple\n",
    "# Functions \n",
    "    * ## Function \n",
    "    * ## Lambda\n",
    "    * ## Filter \n",
    "    * ## Map"
   ]
  },
  {
   "cell_type": "markdown",
   "id": "fff26af0",
   "metadata": {},
   "source": [
    "# mod operator (%) this will return the remainder of the division"
   ]
  },
  {
   "cell_type": "markdown",
   "id": "09448e20",
   "metadata": {},
   "source": [
    "# example\n",
    "21 % 4\n"
   ]
  },
  {
   "cell_type": "markdown",
   "id": "044d6dba",
   "metadata": {},
   "source": [
    "to check if a N number is even, it suffices to show N % 2 = 0"
   ]
  },
  {
   "cell_type": "code",
   "execution_count": 2,
   "id": "9de9ed5d",
   "metadata": {},
   "outputs": [
    {
     "data": {
      "text/plain": [
       "0"
      ]
     },
     "execution_count": 2,
     "metadata": {},
     "output_type": "execute_result"
    }
   ],
   "source": [
    "# for instance \n",
    "212 % 2 # so 212 is an even number\n"
   ]
  },
  {
   "cell_type": "markdown",
   "id": "bcab28fd",
   "metadata": {},
   "source": [
    "# to check if a number is odd, it suffices to show N % 2 = 1"
   ]
  },
  {
   "cell_type": "code",
   "execution_count": 3,
   "id": "3ffd1774",
   "metadata": {},
   "outputs": [
    {
     "data": {
      "text/plain": [
       "1"
      ]
     },
     "execution_count": 3,
     "metadata": {},
     "output_type": "execute_result"
    }
   ],
   "source": [
    "121 % 2 # is 1, so 121 is an odd number\n"
   ]
  },
  {
   "cell_type": "markdown",
   "id": "544e9f05",
   "metadata": {},
   "source": [
    "# String is a sequence of characters\n",
    "We use single, or double quotation to efine a string; that is, a string must between quotations\n"
   ]
  },
  {
   "cell_type": "code",
   "execution_count": 4,
   "id": "4159cb22",
   "metadata": {},
   "outputs": [
    {
     "name": "stdout",
     "output_type": "stream",
     "text": [
      "True\n"
     ]
    }
   ],
   "source": [
    "print(False or True)"
   ]
  },
  {
   "cell_type": "code",
   "execution_count": 5,
   "id": "801130ce",
   "metadata": {},
   "outputs": [
    {
     "name": "stdout",
     "output_type": "stream",
     "text": [
      "False\n"
     ]
    }
   ],
   "source": [
    "print(False and False)"
   ]
  },
  {
   "cell_type": "code",
   "execution_count": 6,
   "id": "0066525c",
   "metadata": {},
   "outputs": [
    {
     "name": "stdout",
     "output_type": "stream",
     "text": [
      "False\n"
     ]
    }
   ],
   "source": [
    "print(False and False)"
   ]
  },
  {
   "cell_type": "markdown",
   "id": "dd6fcd82",
   "metadata": {},
   "source": [
    "* ### List\n",
    "#### example [1,2,3,4,5,6,7,8,9]"
   ]
  },
  {
   "cell_type": "markdown",
   "id": "88063d9e",
   "metadata": {},
   "source": [
    "### Reverse member of a list"
   ]
  },
  {
   "cell_type": "code",
   "execution_count": 7,
   "id": "afe1aa73",
   "metadata": {},
   "outputs": [],
   "source": [
    "my_vegi = ['salad', 'carrot', 'cabbage', 'spinach']"
   ]
  },
  {
   "cell_type": "code",
   "execution_count": 8,
   "id": "8e1f94d8",
   "metadata": {},
   "outputs": [],
   "source": [
    "my_fruit = ['apple', 'mango', 'bannana', 'strawberry']"
   ]
  },
  {
   "cell_type": "code",
   "execution_count": 9,
   "id": "f55923c9",
   "metadata": {},
   "outputs": [
    {
     "name": "stdout",
     "output_type": "stream",
     "text": [
      "['salad', 'carrot', 'cabbage', 'spinach']\n"
     ]
    }
   ],
   "source": [
    "print(my_vegi)"
   ]
  },
  {
   "cell_type": "markdown",
   "id": "1debc88e",
   "metadata": {},
   "source": [
    "# Dictonary\n",
    "is a sequence of key-value pair. Members of a dictonary are between curly brackets."
   ]
  },
  {
   "cell_type": "code",
   "execution_count": 10,
   "id": "2106d5bc",
   "metadata": {},
   "outputs": [],
   "source": [
    "student = {\n",
    "'College' : 'Howard University' ,\n",
    "'School' : 'COAS',\n",
    "'Major' : 'Data Sciencce' ,\n",
    "'Email': 'jaday.garel-acosta@bison.howard.edu' ,\n",
    "'S_name' : 'JaDay Garel-Acosta' }"
   ]
  },
  {
   "cell_type": "code",
   "execution_count": 11,
   "id": "0fdfa017",
   "metadata": {
    "scrolled": true
   },
   "outputs": [
    {
     "data": {
      "text/plain": [
       "'Data Sciencce'"
      ]
     },
     "execution_count": 11,
     "metadata": {},
     "output_type": "execute_result"
    }
   ],
   "source": [
    "student['Major']"
   ]
  },
  {
   "cell_type": "code",
   "execution_count": 12,
   "id": "07af05b1",
   "metadata": {
    "scrolled": true
   },
   "outputs": [
    {
     "data": {
      "text/plain": [
       "'jaday.garel-acosta@bison.howard.edu'"
      ]
     },
     "execution_count": 12,
     "metadata": {},
     "output_type": "execute_result"
    }
   ],
   "source": [
    "student['Email']"
   ]
  },
  {
   "cell_type": "markdown",
   "id": "5fc00f9a",
   "metadata": {},
   "source": [
    "Dictionary"
   ]
  },
  {
   "cell_type": "code",
   "execution_count": 13,
   "id": "ecb25e71",
   "metadata": {},
   "outputs": [],
   "source": [
    "student['Address']= '123 Howard Pl NW, Washington Dc 20059'"
   ]
  },
  {
   "cell_type": "code",
   "execution_count": 14,
   "id": "3657195b",
   "metadata": {},
   "outputs": [
    {
     "data": {
      "text/plain": [
       "'123 Howard Pl NW, Washington Dc 20059'"
      ]
     },
     "execution_count": 14,
     "metadata": {},
     "output_type": "execute_result"
    }
   ],
   "source": [
    "student['Address']"
   ]
  },
  {
   "cell_type": "markdown",
   "id": "dc0e36e5",
   "metadata": {},
   "source": [
    "* ### The set () method is used to remove duplicates"
   ]
  },
  {
   "cell_type": "code",
   "execution_count": 15,
   "id": "99d07983",
   "metadata": {},
   "outputs": [
    {
     "data": {
      "text/plain": [
       "set[1, 1, 2, 3, 4, 5, 6, 7, 8, 9]"
      ]
     },
     "execution_count": 15,
     "metadata": {},
     "output_type": "execute_result"
    }
   ],
   "source": [
    "set[1,1,2,3,4,5,6,7,8,9]"
   ]
  },
  {
   "cell_type": "code",
   "execution_count": 16,
   "id": "3146bd9c",
   "metadata": {},
   "outputs": [],
   "source": [
    "my_list = [1,1,2,3,4,5,6,7,8,9]\n",
    "my_tuple = (1,1,2,3,4,5,6,7,8,9)"
   ]
  },
  {
   "cell_type": "code",
   "execution_count": 17,
   "id": "8287d440",
   "metadata": {},
   "outputs": [],
   "source": [
    "new_tuple = (1,2,3)"
   ]
  },
  {
   "cell_type": "code",
   "execution_count": 18,
   "id": "3b0785fe",
   "metadata": {},
   "outputs": [],
   "source": [
    "a,b,d = new_tuple"
   ]
  },
  {
   "cell_type": "code",
   "execution_count": 19,
   "id": "3d1f5df7",
   "metadata": {},
   "outputs": [
    {
     "data": {
      "text/plain": [
       "2"
      ]
     },
     "execution_count": 19,
     "metadata": {},
     "output_type": "execute_result"
    }
   ],
   "source": [
    "b"
   ]
  },
  {
   "cell_type": "code",
   "execution_count": 20,
   "id": "46fc0d86",
   "metadata": {},
   "outputs": [
    {
     "data": {
      "text/plain": [
       "1"
      ]
     },
     "execution_count": 20,
     "metadata": {},
     "output_type": "execute_result"
    }
   ],
   "source": [
    "a"
   ]
  },
  {
   "cell_type": "code",
   "execution_count": 21,
   "id": "0c0c5671",
   "metadata": {},
   "outputs": [
    {
     "data": {
      "text/plain": [
       "3"
      ]
     },
     "execution_count": 21,
     "metadata": {},
     "output_type": "execute_result"
    }
   ],
   "source": [
    "d"
   ]
  },
  {
   "cell_type": "code",
   "execution_count": 22,
   "id": "ac461fd8",
   "metadata": {},
   "outputs": [],
   "source": [
    "name = 'JaDay'"
   ]
  },
  {
   "cell_type": "code",
   "execution_count": 23,
   "id": "1dfd3c16",
   "metadata": {},
   "outputs": [
    {
     "data": {
      "text/plain": [
       "'gmail.com'"
      ]
     },
     "execution_count": 23,
     "metadata": {},
     "output_type": "execute_result"
    }
   ],
   "source": [
    "my_str = 'someone@gmail.com'\n",
    "my_str.split('@')[1]"
   ]
  },
  {
   "cell_type": "markdown",
   "id": "6f26f86d",
   "metadata": {},
   "source": [
    "# For loop\n",
    "seq_num = [1,2,3,4,5,6,7]"
   ]
  },
  {
   "cell_type": "markdown",
   "id": "6f17a44c",
   "metadata": {},
   "source": [
    "for the number in seq_num:\n",
    "first = 'abc'\n",
    "second = '123'\n",
    "third = 'xyz'"
   ]
  },
  {
   "cell_type": "markdown",
   "id": "c6ed21bf",
   "metadata": {},
   "source": [
    "for i in first:\n",
    "    for j in second:\n",
    "        for k in third:\n",
    "            print((i,j,k))"
   ]
  },
  {
   "cell_type": "code",
   "execution_count": 24,
   "id": "3b209f96",
   "metadata": {},
   "outputs": [],
   "source": [
    "seq_num = [1,2, 3, 4]"
   ]
  },
  {
   "cell_type": "code",
   "execution_count": 25,
   "id": "1b5c6f98",
   "metadata": {},
   "outputs": [
    {
     "name": "stdout",
     "output_type": "stream",
     "text": [
      "1 is an odd number\n",
      "2 is an even number \n",
      "3 is an odd number\n",
      "4 is an even number \n"
     ]
    }
   ],
   "source": [
    "# If else statments\n",
    "for number in seq_num:\n",
    "    if number % 2 == 0: \n",
    "        print('{} is an even number ' .format(number))\n",
    "    else:\n",
    "        print('{} is an odd number' .format(number))\n",
    "        "
   ]
  },
  {
   "cell_type": "code",
   "execution_count": 26,
   "id": "125f3eff",
   "metadata": {},
   "outputs": [
    {
     "name": "stdout",
     "output_type": "stream",
     "text": [
      "College....... Howard University\n",
      "School....... COAS\n",
      "Major....... Data Sciencce\n",
      "Email....... jaday.garel-acosta@bison.howard.edu\n",
      "S_name....... JaDay Garel-Acosta\n",
      "Address....... 123 Howard Pl NW, Washington Dc 20059\n"
     ]
    }
   ],
   "source": [
    "for key, val in student.items():\n",
    "    print(key+\".......\", val)"
   ]
  },
  {
   "cell_type": "code",
   "execution_count": 27,
   "id": "de729a5e",
   "metadata": {},
   "outputs": [
    {
     "ename": "SyntaxError",
     "evalue": "EOL while scanning string literal (292801219.py, line 3)",
     "output_type": "error",
     "traceback": [
      "\u001b[0;36m  File \u001b[0;32m\"/var/folders/vc/5cgx9gkd4v1fg2l3ms5hpkr40000gn/T/ipykernel_54407/292801219.py\"\u001b[0;36m, line \u001b[0;32m3\u001b[0m\n\u001b[0;31m    print(f'{count} is less than 6!)\u001b[0m\n\u001b[0m                                    ^\u001b[0m\n\u001b[0;31mSyntaxError\u001b[0m\u001b[0;31m:\u001b[0m EOL while scanning string literal\n"
     ]
    }
   ],
   "source": [
    "count = 0\n",
    "while count < 6:\n",
    "    print(f'{count} is less than 6!)\n",
    "          count = count + 1"
   ]
  },
  {
   "cell_type": "code",
   "execution_count": 28,
   "id": "e85304ea",
   "metadata": {},
   "outputs": [
    {
     "ename": "SyntaxError",
     "evalue": "invalid syntax (3739765901.py, line 2)",
     "output_type": "error",
     "traceback": [
      "\u001b[0;36m  File \u001b[0;32m\"/var/folders/vc/5cgx9gkd4v1fg2l3ms5hpkr40000gn/T/ipykernel_54407/3739765901.py\"\u001b[0;36m, line \u001b[0;32m2\u001b[0m\n\u001b[0;31m    while < 10:\u001b[0m\n\u001b[0m          ^\u001b[0m\n\u001b[0;31mSyntaxError\u001b[0m\u001b[0;31m:\u001b[0m invalid syntax\n"
     ]
    }
   ],
   "source": [
    "num = 0\n",
    "while < 10:\n",
    "    print(num)\n",
    "    count += 1"
   ]
  },
  {
   "cell_type": "code",
   "execution_count": 31,
   "id": "fcb57cde",
   "metadata": {},
   "outputs": [],
   "source": [
    "def build_alist(num):\n",
    "    num = 0\n",
    "    a_list =[]\n",
    "    while num < 10:\n",
    "        a_list.append(num)\n",
    "        num += 1\n",
    "        return a_list"
   ]
  },
  {
   "cell_type": "code",
   "execution_count": 30,
   "id": "40a65aa6",
   "metadata": {},
   "outputs": [
    {
     "ename": "NameError",
     "evalue": "name 'a_list' is not defined",
     "output_type": "error",
     "traceback": [
      "\u001b[0;31m---------------------------------------------------------------------------\u001b[0m",
      "\u001b[0;31mNameError\u001b[0m                                 Traceback (most recent call last)",
      "\u001b[0;32m/var/folders/vc/5cgx9gkd4v1fg2l3ms5hpkr40000gn/T/ipykernel_54407/1830174764.py\u001b[0m in \u001b[0;36m<module>\u001b[0;34m\u001b[0m\n\u001b[0;32m----> 1\u001b[0;31m \u001b[0ma_list\u001b[0m\u001b[0;34m\u001b[0m\u001b[0;34m\u001b[0m\u001b[0m\n\u001b[0m",
      "\u001b[0;31mNameError\u001b[0m: name 'a_list' is not defined"
     ]
    }
   ],
   "source": [
    "a_list"
   ]
  },
  {
   "cell_type": "code",
   "execution_count": null,
   "id": "fe214f79",
   "metadata": {},
   "outputs": [],
   "source": [
    "def compute_grades(grade):\n",
    "    if grade >= 90:\n",
    "        print('A')\n",
    "    elif grade >= 80:\n",
    "        print('B')\n",
    "    elif grade >= 70:\n",
    "        print('C')\n",
    "    elif grade >= 60:\n",
    "        print('D')\n",
    "    else:\n",
    "        print"
   ]
  }
 ],
 "metadata": {
  "kernelspec": {
   "display_name": "Python 3 (ipykernel)",
   "language": "python",
   "name": "python3"
  },
  "language_info": {
   "codemirror_mode": {
    "name": "ipython",
    "version": 3
   },
   "file_extension": ".py",
   "mimetype": "text/x-python",
   "name": "python",
   "nbconvert_exporter": "python",
   "pygments_lexer": "ipython3",
   "version": "3.9.13"
  }
 },
 "nbformat": 4,
 "nbformat_minor": 5
}
