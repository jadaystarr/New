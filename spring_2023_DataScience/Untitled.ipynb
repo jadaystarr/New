{
 "cells": [
  {
   "cell_type": "code",
   "execution_count": 4,
   "id": "c933f707",
   "metadata": {},
   "outputs": [],
   "source": [
    "def check_even(number):\n",
    "    if number % 2 ==0:\n",
    "        return True\n",
    "    return False\n",
    "numbers = [1,2,3,4,5,6,7,8,9,10]\n"
   ]
  },
  {
   "cell_type": "code",
   "execution_count": 6,
   "id": "cdb43275",
   "metadata": {},
   "outputs": [
    {
     "name": "stdout",
     "output_type": "stream",
     "text": [
      "[2, 4, 6, 8, 10]\n"
     ]
    }
   ],
   "source": [
    "# if an element passed to check_even () returns True, select it\n",
    "even_numbers_interator = filter(check_even, numbers)\n",
    "# converting to list\n",
    "even_numbers = list(even_numbers_interator)\n",
    "print(even_numbers)\n",
    "\n",
    "# output: [2,4,6,8]\n"
   ]
  },
  {
   "cell_type": "code",
   "execution_count": null,
   "id": "8904c575",
   "metadata": {},
   "outputs": [],
   "source": []
  }
 ],
 "metadata": {
  "kernelspec": {
   "display_name": "Python 3 (ipykernel)",
   "language": "python",
   "name": "python3"
  },
  "language_info": {
   "codemirror_mode": {
    "name": "ipython",
    "version": 3
   },
   "file_extension": ".py",
   "mimetype": "text/x-python",
   "name": "python",
   "nbconvert_exporter": "python",
   "pygments_lexer": "ipython3",
   "version": "3.9.13"
  }
 },
 "nbformat": 4,
 "nbformat_minor": 5
}
