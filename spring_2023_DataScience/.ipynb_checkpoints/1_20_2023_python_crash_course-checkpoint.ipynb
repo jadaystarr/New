{
 "cells": [
  {
   "cell_type": "code",
   "execution_count": 2,
   "id": "69c8ec92",
   "metadata": {},
   "outputs": [
    {
     "name": "stdout",
     "output_type": "stream",
     "text": [
      "2\n"
     ]
    }
   ],
   "source": [
    "print(1+1)"
   ]
  },
  {
   "cell_type": "markdown",
   "id": "215a189a",
   "metadata": {},
   "source": [
    "# Data \n"
   ]
  },
  {
   "cell_type": "markdown",
   "id": "625308b7",
   "metadata": {},
   "source": [
    "# data type\n",
    "    * # integers\n",
    "    * ## floats\n",
    "    * ### strings\n",
    "    * ## string method\n",
    "    * ## Boolean\n",
    "    * ## Comparison operation\n",
    "    * ## F'string\n",
    "    * ## List\n",
    "    * ## Dictionary\n",
    "    * ## Set\n",
    "    * ## Tuple\n",
    "# Functions \n",
    "    * ## Function \n",
    "    * ## Lambda\n",
    "    * ## Filter \n",
    "    * ## Map"
   ]
  },
  {
   "cell_type": "markdown",
   "id": "fff26af0",
   "metadata": {},
   "source": [
    "# mod operator (%) this will return the remainder of the division"
   ]
  },
  {
   "cell_type": "markdown",
   "id": "09448e20",
   "metadata": {},
   "source": [
    "# example\n",
    "21 % 4\n"
   ]
  },
  {
   "cell_type": "markdown",
   "id": "044d6dba",
   "metadata": {},
   "source": [
    "to check if a N number is even, it suffices to show N % 2 = 0"
   ]
  },
  {
   "cell_type": "code",
   "execution_count": null,
   "id": "9de9ed5d",
   "metadata": {},
   "outputs": [],
   "source": [
    "# for instance \n",
    "212 % 2 # so 212 is an even number\n"
   ]
  },
  {
   "cell_type": "markdown",
   "id": "bcab28fd",
   "metadata": {},
   "source": [
    "# to check if a number is odd, it suffices to show N % 2 = 1"
   ]
  },
  {
   "cell_type": "code",
   "execution_count": null,
   "id": "3ffd1774",
   "metadata": {},
   "outputs": [],
   "source": [
    "121 % 2 # is 1, so 121 is an odd number\n"
   ]
  },
  {
   "cell_type": "markdown",
   "id": "544e9f05",
   "metadata": {},
   "source": [
    "# String is a sequence of characters\n",
    "We use single, or double quotation to efine a string; that is, a string must between quotations\n"
   ]
  },
  {
   "cell_type": "code",
   "execution_count": 1,
   "id": "4159cb22",
   "metadata": {},
   "outputs": [
    {
     "ename": "NameError",
     "evalue": "name 'false' is not defined",
     "output_type": "error",
     "traceback": [
      "\u001b[0;31m---------------------------------------------------------------------------\u001b[0m",
      "\u001b[0;31mNameError\u001b[0m                                 Traceback (most recent call last)",
      "\u001b[0;32m/var/folders/vc/5cgx9gkd4v1fg2l3ms5hpkr40000gn/T/ipykernel_38553/825429896.py\u001b[0m in \u001b[0;36m<module>\u001b[0;34m\u001b[0m\n\u001b[0;32m----> 1\u001b[0;31m \u001b[0mprint\u001b[0m\u001b[0;34m(\u001b[0m\u001b[0mfalse\u001b[0m \u001b[0;32mor\u001b[0m \u001b[0mtrue\u001b[0m\u001b[0;34m)\u001b[0m\u001b[0;34m\u001b[0m\u001b[0;34m\u001b[0m\u001b[0m\n\u001b[0m",
      "\u001b[0;31mNameError\u001b[0m: name 'false' is not defined"
     ]
    }
   ],
   "source": [
    "print(false or true)"
   ]
  },
  {
   "cell_type": "code",
   "execution_count": 2,
   "id": "801130ce",
   "metadata": {},
   "outputs": [
    {
     "ename": "NameError",
     "evalue": "name 'false' is not defined",
     "output_type": "error",
     "traceback": [
      "\u001b[0;31m---------------------------------------------------------------------------\u001b[0m",
      "\u001b[0;31mNameError\u001b[0m                                 Traceback (most recent call last)",
      "\u001b[0;32m/var/folders/vc/5cgx9gkd4v1fg2l3ms5hpkr40000gn/T/ipykernel_38553/2166041819.py\u001b[0m in \u001b[0;36m<module>\u001b[0;34m\u001b[0m\n\u001b[0;32m----> 1\u001b[0;31m \u001b[0mprint\u001b[0m\u001b[0;34m(\u001b[0m\u001b[0mfalse\u001b[0m \u001b[0;32mand\u001b[0m \u001b[0mfalse\u001b[0m\u001b[0;34m)\u001b[0m\u001b[0;34m\u001b[0m\u001b[0;34m\u001b[0m\u001b[0m\n\u001b[0m",
      "\u001b[0;31mNameError\u001b[0m: name 'false' is not defined"
     ]
    }
   ],
   "source": [
    "print(false and false)"
   ]
  },
  {
   "cell_type": "code",
   "execution_count": 3,
   "id": "0066525c",
   "metadata": {},
   "outputs": [
    {
     "name": "stdout",
     "output_type": "stream",
     "text": [
      "False\n"
     ]
    }
   ],
   "source": [
    "print(False and False)"
   ]
  },
  {
   "cell_type": "markdown",
   "id": "dd6fcd82",
   "metadata": {},
   "source": [
    "* ### List\n",
    "#### example [1,2,3,4,5,6,7,8,9]"
   ]
  },
  {
   "cell_type": "markdown",
   "id": "88063d9e",
   "metadata": {},
   "source": [
    "### Reverse member of a list"
   ]
  },
  {
   "cell_type": "code",
   "execution_count": 6,
   "id": "afe1aa73",
   "metadata": {},
   "outputs": [],
   "source": [
    "my_vegi = ['salad', 'carrot', 'cabbage', 'spinach']"
   ]
  },
  {
   "cell_type": "code",
   "execution_count": 7,
   "id": "8e1f94d8",
   "metadata": {},
   "outputs": [],
   "source": [
    "my_fruit = ['apple', 'mango', 'bannana', 'strawberry']"
   ]
  },
  {
   "cell_type": "code",
   "execution_count": 10,
   "id": "f55923c9",
   "metadata": {},
   "outputs": [
    {
     "name": "stdout",
     "output_type": "stream",
     "text": [
      "['salad', 'carrot', 'cabbage', 'spinach']\n"
     ]
    }
   ],
   "source": [
    "print(my_vegi)"
   ]
  },
  {
   "cell_type": "markdown",
   "id": "a3232277",
   "metadata": {},
   "source": [
    "# Dictonary\n",
    "is a sequence of key-value pair. Members of a dictonary are between curly brackets."
   ]
  },
  {
   "cell_type": "code",
   "execution_count": 11,
   "id": "d295d788",
   "metadata": {},
   "outputs": [],
   "source": [
    "student = {\n",
    "'College' : 'Howard University' ,\n",
    "'School' : 'COAS',\n",
    "'Major' : 'Data Sciencce' ,\n",
    "'Email': 'jaday.garel-acosta@bison.howard.edu' ,\n",
    "'S_name' : 'JaDay Garel-Acosta' }"
   ]
  },
  {
   "cell_type": "code",
   "execution_count": 12,
   "id": "bb753cd0",
   "metadata": {
    "scrolled": true
   },
   "outputs": [
    {
     "data": {
      "text/plain": [
       "'Data Sciencce'"
      ]
     },
     "execution_count": 12,
     "metadata": {},
     "output_type": "execute_result"
    }
   ],
   "source": [
    "student['Major']"
   ]
  },
  {
   "cell_type": "code",
   "execution_count": 13,
   "id": "d8c789e9",
   "metadata": {
    "scrolled": true
   },
   "outputs": [
    {
     "data": {
      "text/plain": [
       "'jaday.garel-acosta@bison.howard.edu'"
      ]
     },
     "execution_count": 13,
     "metadata": {},
     "output_type": "execute_result"
    }
   ],
   "source": [
    "student['Email']"
   ]
  },
  {
   "cell_type": "markdown",
   "id": "20f0f9b8",
   "metadata": {},
   "source": [
    "Dictionary"
   ]
  },
  {
   "cell_type": "code",
   "execution_count": null,
   "id": "285d26da",
   "metadata": {},
   "outputs": [],
   "source": []
  }
 ],
 "metadata": {
  "kernelspec": {
   "display_name": "Python 3 (ipykernel)",
   "language": "python",
   "name": "python3"
  },
  "language_info": {
   "codemirror_mode": {
    "name": "ipython",
    "version": 3
   },
   "file_extension": ".py",
   "mimetype": "text/x-python",
   "name": "python",
   "nbconvert_exporter": "python",
   "pygments_lexer": "ipython3",
   "version": "3.9.13"
  }
 },
 "nbformat": 4,
 "nbformat_minor": 5
}
